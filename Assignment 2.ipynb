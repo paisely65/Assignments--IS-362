{
 "cells": [
  {
   "cell_type": "markdown",
   "metadata": {},
   "source": [
    "# Method for entering data into Dictionaries"
   ]
  },
  {
   "cell_type": "code",
   "execution_count": 2,
   "metadata": {
    "collapsed": false
   },
   "outputs": [
    {
     "name": "stdout",
     "output_type": "stream",
     "text": [
      "dict['Name']:  Manni\n",
      "Length : 3\n",
      "New Dictionary : {'name': None, 'height': None, 'sex': None}\n",
      "New Dictionary : {'name': 10, 'height': 10, 'sex': 10}\n"
     ]
    }
   ],
   "source": [
    "## Dealing with duplicate entries. Last value wins!\n",
    "dict = {'Name': 'Alice', 'Age': 47, 'Name': 'Manni'}\n",
    "print(\"dict['Name']: \", dict['Name'])\n",
    "\n",
    "\n",
    "\n",
    "\n",
    "## Applying Function and Methods\n",
    "breakfast = {'ham': 'roll', 'egg': 'scramble'}\n",
    "lunch = {'burger': 'well', 'fries': 'yes', 'salad': 'yes'}\n",
    "print(\"Length : %d\" % len (lunch))\n",
    "\n",
    "\n",
    "\n",
    "## seq -- list of values which would be used for dictionary keys preparation.\n",
    "## value -- if provided then value would be set to this value\n",
    "seq = ('name', 'height', 'sex')\n",
    "dict = dict.fromkeys(seq)\n",
    "print(\"New Dictionary : %s\" %  str(dict)) \n",
    "dict = dict.fromkeys(seq, 10,)\n",
    "print (\"New Dictionary : %s\" %  str(dict))\n",
    "\n",
    "\n",
    "\n"
   ]
  },
  {
   "cell_type": "markdown",
   "metadata": {
    "collapsed": true
   },
   "source": [
    "# Updating values in a Dictionary"
   ]
  },
  {
   "cell_type": "code",
   "execution_count": 1,
   "metadata": {
    "collapsed": false
   },
   "outputs": [
    {
     "name": "stdout",
     "output_type": "stream",
     "text": [
      "Paisely\n",
      "27\n",
      "pass\n",
      "dict['Age']:  19\n",
      "dict['College']:  CUNY SPS\n"
     ]
    },
    {
     "ename": "TypeError",
     "evalue": "'type' object is not subscriptable",
     "output_type": "error",
     "traceback": [
      "\u001b[0;31m---------------------------------------------------------------------------\u001b[0m",
      "\u001b[0;31mTypeError\u001b[0m                                 Traceback (most recent call last)",
      "\u001b[0;32m<ipython-input-1-dad388e7d105>\u001b[0m in \u001b[0;36m<module>\u001b[0;34m()\u001b[0m\n\u001b[1;32m     30\u001b[0m \u001b[0mdict\u001b[0m\u001b[0;34m.\u001b[0m\u001b[0mclear\u001b[0m\u001b[0;34m(\u001b[0m\u001b[0;34m)\u001b[0m\u001b[0;34m;\u001b[0m     \u001b[0;31m# remove all entries in dict\u001b[0m\u001b[0;34m\u001b[0m\u001b[0m\n\u001b[1;32m     31\u001b[0m \u001b[0;32mdel\u001b[0m \u001b[0mdict\u001b[0m \u001b[0;34m;\u001b[0m        \u001b[0;31m# delete entire dictionary\u001b[0m\u001b[0;34m\u001b[0m\u001b[0m\n\u001b[0;32m---> 32\u001b[0;31m \u001b[0mprint\u001b[0m\u001b[0;34m(\u001b[0m\u001b[0;34m\"dict['Age']: \"\u001b[0m\u001b[0;34m,\u001b[0m \u001b[0mdict\u001b[0m\u001b[0;34m[\u001b[0m\u001b[0;34m'Age'\u001b[0m\u001b[0;34m]\u001b[0m\u001b[0;34m)\u001b[0m       \u001b[0;31m# will return an error since contents of dict was cleared\u001b[0m\u001b[0;34m\u001b[0m\u001b[0m\n\u001b[0m\u001b[1;32m     33\u001b[0m \u001b[0mprint\u001b[0m\u001b[0;34m(\u001b[0m\u001b[0;34m\"dict['School']: \"\u001b[0m\u001b[0;34m,\u001b[0m \u001b[0mdict\u001b[0m\u001b[0;34m[\u001b[0m\u001b[0;34m'School'\u001b[0m\u001b[0;34m]\u001b[0m\u001b[0;34m)\u001b[0m \u001b[0;31m# will return an error since contents of dict was cleared\u001b[0m\u001b[0;34m\u001b[0m\u001b[0m\n",
      "\u001b[0;31mTypeError\u001b[0m: 'type' object is not subscriptable"
     ]
    }
   ],
   "source": [
    "## Finding values in a dictionary\n",
    "\n",
    "dict = {'Name': 'Paisely', 'Age': 27, 'Level': 'Sophomore'}\n",
    "print(dict['Name'])\n",
    "print(dict['Age'])\n",
    "\n",
    "\n",
    "\n",
    "## Finding key that do not exist\n",
    "## Using a try except clause\n",
    "dict = {'Name': 'Haley', 'Age': 21, 'Level': 'Junior'}\n",
    "try:\n",
    "    dict['Rainbow']\n",
    "except KeyError:\n",
    "    print('pass') \n",
    "\n",
    "\n",
    "\n",
    "## Updating a Dictionary \n",
    "dict = {'Name': 'Paisely', 'Age': 27, 'Level': 'Sophomore'}\n",
    "dict['Age'] = 19; # update existing dictionay\n",
    "dict['College'] = \"CUNY SPS\"; # Add new entry \n",
    "print(\"dict['Age']: \", dict['Age']) \n",
    "print (\"dict['College']: \", dict['College'])\n",
    "\n",
    "\n",
    "## Delete Dictionary Elements. \n",
    "dict = {'Name': 'Paisely', 'Age': 27, 'Level': 'Sophomore', 'College': 'CUNY SPS'}\n",
    "del dict['Name']; # remove entry with key 'Name'\n",
    "dict.clear();     # remove all entries in dict\n",
    "del dict ;        # delete entire dictionary\n",
    "print(\"dict['Age']: \", dict['Age'])       # will return an error since contents of dict was cleared\n",
    "print(\"dict['School']: \", dict['School']) # will return an error since contents of dict was cleared"
   ]
  },
  {
   "cell_type": "markdown",
   "metadata": {},
   "source": [
    " # Finding Values in a Dictionary"
   ]
  },
  {
   "cell_type": "code",
   "execution_count": 2,
   "metadata": {
    "collapsed": false
   },
   "outputs": [
    {
     "name": "stdout",
     "output_type": "stream",
     "text": [
      "Value : 27\n",
      "Value : None\n"
     ]
    },
    {
     "ename": "AttributeError",
     "evalue": "'dict' object has no attribute 'has_key'",
     "output_type": "error",
     "traceback": [
      "\u001b[0;31m---------------------------------------------------------------------------\u001b[0m",
      "\u001b[0;31mAttributeError\u001b[0m                            Traceback (most recent call last)",
      "\u001b[0;32m<ipython-input-2-33a3050fc54f>\u001b[0m in \u001b[0;36m<module>\u001b[0;34m()\u001b[0m\n\u001b[1;32m      9\u001b[0m \u001b[0;31m## Returns true if the key exists and false if it does not.\u001b[0m\u001b[0;34m\u001b[0m\u001b[0;34m\u001b[0m\u001b[0m\n\u001b[1;32m     10\u001b[0m \u001b[0mdict\u001b[0m \u001b[0;34m=\u001b[0m \u001b[0;34m{\u001b[0m\u001b[0;34m'Name'\u001b[0m\u001b[0;34m:\u001b[0m \u001b[0;34m'Mike'\u001b[0m\u001b[0;34m,\u001b[0m \u001b[0;34m'Age'\u001b[0m\u001b[0;34m:\u001b[0m \u001b[0;36m11\u001b[0m\u001b[0;34m}\u001b[0m\u001b[0;34m\u001b[0m\u001b[0m\n\u001b[0;32m---> 11\u001b[0;31m \u001b[0mprint\u001b[0m \u001b[0;34m(\u001b[0m\u001b[0;34m\"Value : %s\"\u001b[0m \u001b[0;34m%\u001b[0m  \u001b[0mdict\u001b[0m\u001b[0;34m.\u001b[0m\u001b[0mhas_key\u001b[0m\u001b[0;34m(\u001b[0m\u001b[0;34m'Age'\u001b[0m\u001b[0;34m)\u001b[0m\u001b[0;34m)\u001b[0m\u001b[0;34m\u001b[0m\u001b[0m\n\u001b[0m\u001b[1;32m     12\u001b[0m \u001b[0mprint\u001b[0m \u001b[0;34m(\u001b[0m\u001b[0;34m\"Value : %s\"\u001b[0m \u001b[0;34m%\u001b[0m  \u001b[0mdict\u001b[0m\u001b[0;34m.\u001b[0m\u001b[0mhas_key\u001b[0m\u001b[0;34m(\u001b[0m\u001b[0;34m'Sex'\u001b[0m\u001b[0;34m)\u001b[0m\u001b[0;34m)\u001b[0m\u001b[0;34m\u001b[0m\u001b[0m\n\u001b[1;32m     13\u001b[0m \u001b[0;34m\u001b[0m\u001b[0m\n",
      "\u001b[0;31mAttributeError\u001b[0m: 'dict' object has no attribute 'has_key'"
     ]
    }
   ],
   "source": [
    "## Returns a value for the given key. If key is not available then returns default value None.\n",
    "\n",
    "dict = {'Name': 'Cheray', 'Age': 27}\n",
    "print(\"Value : %s\" %  dict.get('Age')) \n",
    "print (\"Value : %s\" %  dict.get('Education', \"None\"))\n",
    "\n",
    "\n",
    "\n",
    "## Returns true if the key exists and false if it does not.\n",
    "dict = {'Name': 'Mike', 'Age': 11}\n",
    "print (\"Value : %s\" %  dict.has_key('Age'))\n",
    "print (\"Value : %s\" %  dict.has_key('Sex'))\n",
    "\n",
    "\n",
    "\n",
    "\n",
    "## Returns key value pairs as a list of tuples.\n",
    "dict = {'rank': 'manager', 'Age': 47}\n",
    "print (\"Value : %s\" %  dict.items())\n",
    "\n",
    "\n",
    "\n",
    "\n",
    "## Returns a list of Dictionary keys\n",
    "dict = {'Room': 2, 'Tutor': 'Jennifer', 'Subject': 'Math'}\n",
    "print (\"Value : %s\" %  dict.keys())\n",
    "\n",
    "\n",
    "\n",
    "\n",
    "## Returns a list of dictionary vlaues\n",
    "dict = {'Room': 2, 'Tutor': 'Jennifer', 'Subject': 'Math'}\n",
    "print (\"Value : %s\" %  dict.values())\n"
   ]
  },
  {
   "cell_type": "code",
   "execution_count": null,
   "metadata": {
    "collapsed": true
   },
   "outputs": [],
   "source": []
  }
 ],
 "metadata": {
  "kernelspec": {
   "display_name": "Python 3",
   "language": "python",
   "name": "python3"
  },
  "language_info": {
   "codemirror_mode": {
    "name": "ipython",
    "version": 3
   },
   "file_extension": ".py",
   "mimetype": "text/x-python",
   "name": "python",
   "nbconvert_exporter": "python",
   "pygments_lexer": "ipython3",
   "version": "3.6.0"
  }
 },
 "nbformat": 4,
 "nbformat_minor": 2
}
