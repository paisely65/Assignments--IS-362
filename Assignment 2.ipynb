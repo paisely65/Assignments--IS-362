{
 "cells": [
  {
   "cell_type": "markdown",
   "metadata": {},
   "source": [
    "# Method for entering data into Dictionaries"
   ]
  },
  {
   "cell_type": "code",
   "execution_count": 2,
   "metadata": {
    "collapsed": false
   },
   "outputs": [
    {
     "name": "stdout",
     "output_type": "stream",
     "text": [
      "dict['Name']:  Manni\n",
      "Length : 3\n",
      "New Dictionary : {'name': None, 'height': None, 'sex': None}\n",
      "New Dictionary : {'name': 10, 'height': 10, 'sex': 10}\n"
     ]
    }
   ],
   "source": [
    "## Dealing with duplicate entries. Last value wins!\n",
    "dict = {'Name': 'Alice', 'Age': 47, 'Name': 'Manni'}\n",
    "print(\"dict['Name']: \", dict['Name'])\n",
    "\n",
    "\n",
    "\n",
    "\n",
    "## Applying Function and Methods\n",
    "breakfast = {'ham': 'roll', 'egg': 'scramble'}\n",
    "lunch = {'burger': 'well', 'fries': 'yes', 'salad': 'yes'}\n",
    "print(\"Length : %d\" % len (lunch))\n",
    "\n",
    "\n",
    "\n",
    "## seq -- list of values which would be used for dictionary keys preparation.\n",
    "## value -- if provided then value would be set to this value\n",
    "seq = ('name', 'height', 'sex')\n",
    "dict = dict.fromkeys(seq)\n",
    "print(\"New Dictionary : %s\" %  str(dict)) \n",
    "dict = dict.fromkeys(seq, 10,)\n",
    "print (\"New Dictionary : %s\" %  str(dict))\n",
    "\n",
    "\n",
    "\n"
   ]
  },
  {
   "cell_type": "code",
   "execution_count": null,
   "metadata": {
    "collapsed": true
   },
   "outputs": [],
   "source": []
  },
  {
   "cell_type": "code",
   "execution_count": null,
   "metadata": {
    "collapsed": true
   },
   "outputs": [],
   "source": []
  },
  {
   "cell_type": "code",
   "execution_count": null,
   "metadata": {
    "collapsed": true
   },
   "outputs": [],
   "source": []
  }
 ],
 "metadata": {
  "kernelspec": {
   "display_name": "Python 3",
   "language": "python",
   "name": "python3"
  },
  "language_info": {
   "codemirror_mode": {
    "name": "ipython",
    "version": 3
   },
   "file_extension": ".py",
   "mimetype": "text/x-python",
   "name": "python",
   "nbconvert_exporter": "python",
   "pygments_lexer": "ipython3",
   "version": "3.6.0"
  }
 },
 "nbformat": 4,
 "nbformat_minor": 2
}
